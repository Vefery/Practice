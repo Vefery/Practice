{
 "cells": [
  {
   "cell_type": "markdown",
   "metadata": {},
   "source": [
    "## Load libraries"
   ]
  },
  {
   "cell_type": "code",
   "execution_count": 1,
   "metadata": {},
   "outputs": [],
   "source": [
    "import numpy as np\n",
    "from tqdm import tqdm\n",
    "import time\n",
    "from torch.utils.tensorboard import SummaryWriter\n",
    "from multiprocessing.pool import ThreadPool\n",
    "from datetime import datetime\n",
    "import torch\n",
    "import torch.nn.functional as F\n",
    "import torch.nn as nn\n",
    "import torch.optim as optim\n",
    "import gymnasium as gym\n",
    "from torch.distributions.categorical import Categorical\n",
    "from mlagents_envs.environment import UnityEnvironment\n",
    "from mlagents_envs.envs.unity_gym_env import UnityToGymWrapper"
   ]
  },
  {
   "cell_type": "markdown",
   "metadata": {},
   "source": [
    "## Parameters"
   ]
  },
  {
   "cell_type": "code",
   "execution_count": 2,
   "metadata": {},
   "outputs": [],
   "source": [
    "device = (torch.device(\"cuda\"))\n",
    "dim = 256\n",
    "critic_lr = 3e-4\n",
    "actor_lr = critic_lr / 3.0\n",
    "reparam_noise = 1e-6\n",
    "gamma=0.99\n",
    "tau=0.005\n",
    "alpha_start = 1\n",
    "max_size = 1000000\n",
    "batch_size = 512\n",
    "total_plays = 50000\n",
    "num_epochs = 1\n",
    "N = 1"
   ]
  },
  {
   "cell_type": "markdown",
   "metadata": {},
   "source": [
    "## Environment setup"
   ]
  },
  {
   "cell_type": "code",
   "execution_count": 3,
   "metadata": {},
   "outputs": [
    {
     "name": "stdout",
     "output_type": "stream",
     "text": [
      "[WARNING] The environment contains multiple observations. You must define allow_multiple_obs=True to receive them all. Otherwise, only the first visual observation (or vector observation ifthere are no visual observations) will be provided in the observation.\n",
      "(16,)\n",
      "4\n"
     ]
    }
   ],
   "source": [
    "unity_env = UnityEnvironment(\"D:\\Practice\\SentisInfrence\\Build\\SentisInfrence.exe\", no_graphics=True)\n",
    "env = UnityToGymWrapper(unity_env)\n",
    "\n",
    "#env = gym.make(\"CartPole-v1\")\n",
    "\n",
    "obs_dim = env.observation_space.shape\n",
    "n_actions=env.action_space.n\n",
    "\n",
    "print(obs_dim)\n",
    "print(n_actions)"
   ]
  },
  {
   "cell_type": "code",
   "execution_count": null,
   "metadata": {},
   "outputs": [],
   "source": [
    "env.close()"
   ]
  },
  {
   "cell_type": "markdown",
   "metadata": {},
   "source": [
    "## Replay buffer"
   ]
  },
  {
   "cell_type": "code",
   "execution_count": 4,
   "metadata": {},
   "outputs": [],
   "source": [
    "class ReplayBuffer():\n",
    "    def __init__(self, max_size, input_shape, n_actions):\n",
    "        self.mem_size = max_size\n",
    "        self.mem_cntr = 0\n",
    "        self.state_memory = np.zeros((self.mem_size, *input_shape))\n",
    "        self.new_state_memory = np.zeros((self.mem_size, *input_shape))\n",
    "        self.action_memory = np.zeros((self.mem_size, n_actions))\n",
    "        self.reward_memory = np.zeros(self.mem_size)\n",
    "        self.done_memory = np.zeros((self.mem_size), dtype=bool)\n",
    "\n",
    "    def store_transition(self, state, action, reward, state_, dones):\n",
    "        index = self.mem_cntr % self.mem_size\n",
    "\n",
    "        self.state_memory[index] = state\n",
    "        self.new_state_memory[index] = state_\n",
    "        self.action_memory[index] = action\n",
    "        self.reward_memory[index] = reward\n",
    "        self.done_memory[index] = dones\n",
    "\n",
    "        self.mem_cntr += 1\n",
    "\n",
    "    def sample_buffer(self, batch_size):\n",
    "        max_mem = min(self.mem_cntr, self.mem_size)\n",
    "\n",
    "        batch = np.random.choice(max_mem, batch_size)\n",
    "\n",
    "        states = self.state_memory[batch]\n",
    "        states_ = self.new_state_memory[batch]\n",
    "        actions = self.action_memory[batch]\n",
    "        rewards = self.reward_memory[batch]\n",
    "        dones = self.done_memory[batch]\n",
    "\n",
    "        return states, actions, rewards, states_, dones"
   ]
  },
  {
   "cell_type": "markdown",
   "metadata": {},
   "source": [
    "## Networks"
   ]
  },
  {
   "cell_type": "code",
   "execution_count": 5,
   "metadata": {},
   "outputs": [],
   "source": [
    "class CriticNetwork(nn.Module):\n",
    "    def __init__(self):\n",
    "        super(CriticNetwork, self).__init__()\n",
    "\n",
    "        self.layers = nn.Sequential(\n",
    "            nn.Linear(obs_dim[-1], dim),\n",
    "            nn.ReLU(),\n",
    "            nn.Linear(dim, dim),\n",
    "            nn.ReLU(),\n",
    "            nn.Linear(dim, n_actions)\n",
    "        )\n",
    "\n",
    "        self.optimizer = optim.Adam(self.parameters(), lr=critic_lr)\n",
    "        self.scheduler = optim.lr_scheduler.LinearLR(self.optimizer, start_factor=1, end_factor=0, total_iters=total_plays)\n",
    "\n",
    "        self.to(device)\n",
    "\n",
    "    def forward(self, state):\n",
    "        q = self.layers(state)\n",
    "\n",
    "        return q\n",
    "\n",
    "class ActorNetwork(nn.Module):\n",
    "    def __init__(self):\n",
    "        super(ActorNetwork, self).__init__()\n",
    "\n",
    "        self.layers = nn.Sequential(\n",
    "            nn.Linear(*obs_dim, dim),\n",
    "            nn.ReLU(),\n",
    "            nn.Linear(dim, dim),\n",
    "            nn.ReLU(),\n",
    "            nn.Linear(dim, int(n_actions)),\n",
    "            nn.Softmax(dim=-1)\n",
    "        )\n",
    "\n",
    "        self.optimizer = optim.Adam(self.parameters(), lr=actor_lr)\n",
    "        self.scheduler = optim.lr_scheduler.LinearLR(self.optimizer, start_factor=1, end_factor=0, total_iters=total_plays)\n",
    "\n",
    "        self.to(device)\n",
    "\n",
    "    def forward(self, state):\n",
    "        action_probs = self.layers(state)\n",
    "       \n",
    "\n",
    "        return action_probs\n",
    "\n",
    "    def sample_normal(self, state):\n",
    "        action_probs = self.forward(state)\n",
    "        \n",
    "        dist = Categorical(action_probs)\n",
    "        action = dist.sample()\n",
    "\n",
    "        z = action_probs == 0.0\n",
    "        z = z.float() * 1e-8\n",
    "        log_probs = torch.log(action_probs + z)\n",
    "\n",
    "        return action, log_probs, action_probs\n",
    "    \n",
    "class Agent():\n",
    "    def __init__(self):\n",
    "        self.memory = ReplayBuffer(max_size, obs_dim, n_actions)\n",
    "\n",
    "        self.actor = ActorNetwork()\n",
    "        self.critic_1 = CriticNetwork()\n",
    "        self.critic_2 = CriticNetwork()\n",
    "        self.critic_1_target = CriticNetwork()\n",
    "        self.critic_2_target = CriticNetwork()\n",
    "\n",
    "        self.critic_1_target.load_state_dict(self.critic_1.state_dict())\n",
    "        self.critic_2_target.load_state_dict(self.critic_2.state_dict())\n",
    "\n",
    "        self.alpha = alpha_start\n",
    "        self.log_alpha = torch.zeros(1, requires_grad=True, device=device)\n",
    "        self.alpha_optimizer = torch.optim.Adam([self.log_alpha], lr=critic_lr)\n",
    "        self.alpha_scheduler = optim.lr_scheduler.LinearLR(self.alpha_optimizer, start_factor=1, end_factor=0, total_iters=total_plays)\n",
    "        self.target_entropy = -n_actions\n",
    "\n",
    "    def choose_action(self, observation):\n",
    "        state = torch.tensor(np.array([observation], dtype=float), dtype=torch.float).to(device)\n",
    "        actions, _, _ = self.actor.sample_normal(state)\n",
    "\n",
    "        return actions.cpu().detach().numpy()[0]\n",
    "\n",
    "    def remember(self, state, action, reward, new_state, dones):\n",
    "        self.memory.store_transition(state, action, reward, new_state, dones)\n",
    "\n",
    "    def gradient_step(self):\n",
    "        if self.memory.mem_cntr < batch_size:\n",
    "            return\n",
    "        \n",
    "        for _ in range(num_epochs):\n",
    "            state, actions, reward, state_, dones = self.memory.sample_buffer(batch_size)\n",
    "\n",
    "            reward = torch.tensor(reward, dtype=torch.float).to(device)\n",
    "            state_ = torch.tensor(state_, dtype=torch.float).to(device)\n",
    "            state = torch.tensor(state, dtype=torch.float).to(device)\n",
    "            actions = torch.tensor(actions, dtype=torch.float).to(device)\n",
    "            dones = torch.tensor(dones, dtype=torch.bool).to(device)\n",
    "\n",
    "            # Critics gradient step\n",
    "            _, _, action_probs_ = self.actor.sample_normal(state_)\n",
    "            \n",
    "            with torch.no_grad():\n",
    "                q1_target_value = self.critic_1_target.forward(state_)\n",
    "                q2_target_value = self.critic_2_target.forward(state_)\n",
    "                q_target_value = torch.min(q2_target_value, q1_target_value) * action_probs_\n",
    "                q_hat = reward.view(batch_size, -1) + gamma * ~(dones.view(batch_size, -1)) * q_target_value\n",
    "            q1_value = self.critic_1.forward(state).gather(1, actions.long())\n",
    "            q2_value = self.critic_2.forward(state).gather(1, actions.long())\n",
    "            q1_loss = 0.5 * F.mse_loss(q1_value, q_hat)\n",
    "            q2_loss = 0.5 * F.mse_loss(q2_value, q_hat)\n",
    "            \n",
    "            q_loss = q1_loss + q2_loss\n",
    "            self.critic_1.zero_grad()\n",
    "            self.critic_2.zero_grad()\n",
    "            q_loss.backward()\n",
    "            self.critic_1.optimizer.step()\n",
    "            self.critic_2.optimizer.step()\n",
    "\n",
    "            # Policy gradient step\n",
    "            _, log_probs, action_probs = self.actor.sample_normal(state)\n",
    "            q1_value = self.critic_1.forward(state)\n",
    "            q2_value = self.critic_2.forward(state)\n",
    "            q_value = torch.min(q1_value, q2_value)\n",
    "            actor_loss = (action_probs * (self.alpha * log_probs - q_value)).mean()\n",
    "            self.actor.zero_grad()\n",
    "            actor_loss.backward()\n",
    "            self.actor.optimizer.step()\n",
    "\n",
    "            # Alpha gradient step\n",
    "            _, log_probs, action_probs = self.actor.sample_normal(state)\n",
    "            alpha_loss = -(action_probs * self.log_alpha * (log_probs + self.target_entropy).detach()).mean()\n",
    "            self.alpha_optimizer.zero_grad()\n",
    "            alpha_loss.backward()\n",
    "            self.alpha_optimizer.step()\n",
    "            self.alpha = self.log_alpha.exp().item()\n",
    "\n",
    "            # Target critic weights update\n",
    "            for param, target_param in zip(self.critic_1.parameters(), self.critic_1_target.parameters()):\n",
    "                target_param.data.copy_(tau * param.data + (1 - tau) * target_param.data)\n",
    "\n",
    "            for param, target_param in zip(self.critic_2.parameters(), self.critic_2_target.parameters()):\n",
    "                target_param.data.copy_(tau * param.data + (1 - tau) * target_param.data)\n",
    "\n",
    "            return\n",
    "    \n",
    "    def save_model(self):\n",
    "        model_scripted = torch.jit.script(self.actor)\n",
    "        model_scripted.save(\"models/unity_test\" + \"_final.pth\")"
   ]
  },
  {
   "cell_type": "markdown",
   "metadata": {},
   "source": [
    "## Training"
   ]
  },
  {
   "cell_type": "code",
   "execution_count": 6,
   "metadata": {},
   "outputs": [],
   "source": [
    "agent = Agent()"
   ]
  },
  {
   "cell_type": "code",
   "execution_count": 42,
   "metadata": {},
   "outputs": [],
   "source": [
    "agent.save_model()"
   ]
  },
  {
   "cell_type": "code",
   "execution_count": 14,
   "metadata": {},
   "outputs": [
    {
     "name": "stderr",
     "output_type": "stream",
     "text": [
      "  8%|▊         | 4198/50000 [25:51<4:42:05,  2.71it/s]\n",
      "100%|██████████| 50000/50000 [5:12:05<00:00,  2.67it/s]   \n"
     ]
    }
   ],
   "source": [
    "if \"pbar\" in globals():\n",
    "    pbar.close()\n",
    "pbar = tqdm(total=total_plays)\n",
    "pbar.reset()\n",
    "writer = SummaryWriter(\"logs/unity_test\" + str(datetime.now().day) + str(datetime.now().hour) + str(datetime.now().minute))\n",
    "\n",
    "writer.add_text(\n",
    "          \"Hyperparameters\",\n",
    "          \"|param|value|\\n|-|-|\\n%s\" % (\"\\n\".join(\n",
    "               [f\"|Critic lr|{critic_lr}|\",\n",
    "                f\"|Actor lr|{actor_lr}|\",\n",
    "                f\"|Layer dim|{dim}|\",\n",
    "                f\"|Batch size|{batch_size}|\",\n",
    "                f\"|Gamma|{gamma}|\",\n",
    "                f\"|Tau|{tau}|\",\n",
    "                ]\n",
    "          )),\n",
    "          int(str(datetime.now().day) + str(datetime.now().hour) + str(datetime.now().minute)))\n",
    "\n",
    "#agent = Agent()\n",
    "best_score = -100000\n",
    "score_history = []\n",
    "\n",
    "global_step = 0\n",
    "for i in range(total_plays):\n",
    "    observation = env.reset()\n",
    "    done = False\n",
    "    score = 0\n",
    "    iter_steps = 0\n",
    "    while not done:\n",
    "        action = agent.choose_action(observation)\n",
    "        observation_, reward, terminated, _ = env.step(action)\n",
    "        done = terminated\n",
    "        score += reward\n",
    "        agent.remember(observation, action, reward, observation_, terminated)\n",
    "        if iter_steps % N == 0:\n",
    "            agent.gradient_step()\n",
    "        iter_steps += 1\n",
    "        global_step += 1\n",
    "        observation = observation_\n",
    "    score_history.append(score)\n",
    "    avg_score = np.mean(score_history[-100:])\n",
    "\n",
    "    if avg_score > best_score:\n",
    "        best_score = avg_score\n",
    "        agent.save_model()\n",
    "\n",
    "    if global_step > batch_size:\n",
    "        agent.critic_1.scheduler.step()\n",
    "        agent.critic_2.scheduler.step()\n",
    "        agent.actor.scheduler.step()\n",
    "        agent.alpha_scheduler.step()\n",
    "\n",
    "    writer.add_scalar(\"charts/reward\", avg_score, global_step=global_step)\n",
    "    writer.add_scalar(\"charts/step_count\", iter_steps, global_step=global_step)\n",
    "    pbar.update()\n",
    "\n",
    "pbar.close() "
   ]
  },
  {
   "cell_type": "markdown",
   "metadata": {},
   "source": [
    "## Weights save"
   ]
  },
  {
   "cell_type": "code",
   "execution_count": 15,
   "metadata": {},
   "outputs": [],
   "source": [
    "torch.save({\n",
    "            'actor_state_dict': agent.actor.state_dict(),\n",
    "            'critic1_state_dict': agent.critic_1.state_dict(),\n",
    "            'critic2_state_dict': agent.critic_2.state_dict(),\n",
    "            'target_critic1_state_dict': agent.critic_1_target.state_dict(),\n",
    "            'target_critic2_state_dict': agent.critic_2_target.state_dict(),\n",
    "            'actor_optimizer_state_dict': agent.actor.optimizer.state_dict(),\n",
    "            'critic1_optimizer_state_dict': agent.critic_1.optimizer.state_dict(),\n",
    "            'critic2_optimizer_state_dict': agent.critic_2.optimizer.state_dict(),\n",
    "            }, \"models/unity\" + str(i) + \"_steps_weights.pt\")"
   ]
  },
  {
   "cell_type": "markdown",
   "metadata": {},
   "source": [
    "## Load weights"
   ]
  },
  {
   "cell_type": "code",
   "execution_count": 7,
   "metadata": {},
   "outputs": [
    {
     "data": {
      "text/plain": [
       "CriticNetwork(\n",
       "  (layers): Sequential(\n",
       "    (0): Linear(in_features=16, out_features=256, bias=True)\n",
       "    (1): ReLU()\n",
       "    (2): Linear(in_features=256, out_features=256, bias=True)\n",
       "    (3): ReLU()\n",
       "    (4): Linear(in_features=256, out_features=4, bias=True)\n",
       "  )\n",
       ")"
      ]
     },
     "execution_count": 7,
     "metadata": {},
     "output_type": "execute_result"
    }
   ],
   "source": [
    "ckpt = torch.load(\"models/unity49999_steps_weights.pt\")\n",
    "agent.actor.load_state_dict(ckpt['actor_state_dict'])\n",
    "agent.actor.optimizer.load_state_dict(ckpt['actor_optimizer_state_dict'])\n",
    "agent.critic_1.load_state_dict(ckpt['critic1_state_dict'])\n",
    "agent.critic_2.load_state_dict(ckpt['critic2_state_dict'])\n",
    "agent.critic_1.optimizer.load_state_dict(ckpt['critic1_optimizer_state_dict'])\n",
    "agent.critic_2.optimizer.load_state_dict(ckpt['critic2_optimizer_state_dict'])\n",
    "agent.critic_1_target.load_state_dict(ckpt['target_critic1_state_dict'])\n",
    "agent.critic_2_target.load_state_dict(ckpt['target_critic2_state_dict'])\n",
    "agent.actor.train()\n",
    "agent.critic_1.train()\n",
    "agent.critic_2.train()"
   ]
  },
  {
   "cell_type": "markdown",
   "metadata": {},
   "source": [
    "## Export to ONNX (Unity format)"
   ]
  },
  {
   "cell_type": "code",
   "execution_count": 8,
   "metadata": {},
   "outputs": [
    {
     "name": "stderr",
     "output_type": "stream",
     "text": [
      "C:\\Users\\Vefery\\AppData\\Local\\Temp\\ipykernel_7096\\29769737.py:30: UserWarning: To copy construct from a tensor, it is recommended to use sourceTensor.clone().detach() or sourceTensor.clone().detach().requires_grad_(True), rather than torch.tensor(sourceTensor).\n",
      "  self.discrete_shape = nn.Parameter(torch.tensor(output_shape), requires_grad=False)\n"
     ]
    }
   ],
   "source": [
    "observation = env.reset() \n",
    "observation = torch.tensor(np.array([observation]), dtype=torch.float).to(device)\n",
    "\n",
    "class WrapperNet(torch.nn.Module):\n",
    "    def __init__(self, actor):\n",
    "        \"\"\"\n",
    "        Wraps the VisualQNetwork adding extra constants and dummy mask inputs\n",
    "        required by runtime inference with Sentis.\n",
    "\n",
    "        For environment continuous actions outputs would need to add them\n",
    "        similarly to how discrete action outputs work, both in the wrapper\n",
    "        and in the ONNX output_names / dynamic_axes.\n",
    "        \"\"\"\n",
    "        super(WrapperNet, self).__init__()\n",
    "        self.qnet = actor\n",
    "\n",
    "        # version_number\n",
    "        #   MLAgents1_0 = 2   (not covered by this example)\n",
    "        #   MLAgents2_0 = 3\n",
    "        version_number = torch.Tensor([3])\n",
    "        self.version_number = nn.Parameter(version_number, requires_grad=False)\n",
    "\n",
    "        # memory_size\n",
    "        # TODO: document case where memory is not zero.\n",
    "        memory_size = torch.Tensor([0])\n",
    "        self.memory_size = nn.Parameter(memory_size, requires_grad=False)\n",
    "\n",
    "        # discrete_action_output_shape\n",
    "        output_shape = torch.Tensor([n_actions])\n",
    "        self.discrete_shape = nn.Parameter(torch.tensor(output_shape), requires_grad=False)\n",
    "\n",
    "\n",
    "    # if you have discrete actions ML-agents expects corresponding a mask\n",
    "    # tensor with the same shape to exist as input\n",
    "    def forward(self, obs: torch.tensor):\n",
    "        probs = self.qnet(obs)\n",
    "        \n",
    "        action = torch.argmax(probs, dim=-1, keepdim=True)\n",
    "        \n",
    "        return [action], self.discrete_shape, self.version_number, self.memory_size\n",
    "    \n",
    "model = WrapperNet(agent.actor)\n",
    "\n",
    "torch.onnx.export(\n",
    "    model,\n",
    "    observation,\n",
    "    'UnityTest.onnx',\n",
    "    opset_version=11,\n",
    "    # input_names must correspond to the WrapperNet forward parameters\n",
    "    # obs will be obs_0, obs_1, etc.\n",
    "    input_names=[\"obs_0\"],\n",
    "    # output_names must correspond to the return tuple of the WrapperNet\n",
    "    # forward function.\n",
    "    output_names=[\"discrete_actions\", \"discrete_action_output_shape\",\n",
    "                  \"version_number\", \"memory_size\"],\n",
    "    # All inputs and outputs should have their 0th dimension be designated\n",
    "    # as 'batch'\n",
    "    dynamic_axes={'obs_0': {0: 'batch'},\n",
    "                  'discrete_actions': {0: 'batch'},\n",
    "                  'discrete_action_output_shape': {0: 'batch'}\n",
    "                 }\n",
    "    )"
   ]
  }
 ],
 "metadata": {
  "kernelspec": {
   "display_name": "mlagents",
   "language": "python",
   "name": "python3"
  },
  "language_info": {
   "codemirror_mode": {
    "name": "ipython",
    "version": 3
   },
   "file_extension": ".py",
   "mimetype": "text/x-python",
   "name": "python",
   "nbconvert_exporter": "python",
   "pygments_lexer": "ipython3",
   "version": "3.10.12"
  }
 },
 "nbformat": 4,
 "nbformat_minor": 2
}
